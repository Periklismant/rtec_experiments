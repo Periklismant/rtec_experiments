{
 "cells": [
  {
   "cell_type": "markdown",
   "metadata": {
    "collapsed": false
   },
   "source": [
    "# Hello World\n",
    "This notebook is a minimal example for demonstrating Fusemate as a Scala plugin.\n",
    "\n",
    "First we need to add the Fusemate compiler plugin and the Fusemate runtime library to the Scala shell:"
   ]
  },
  {
   "cell_type": "code",
   "execution_count": 1,
   "metadata": {
    "collapsed": false
   },
   "outputs": [],
   "source": [
    "interp.load.plugin.cp(os.Path(\"/home/bau050/fusemate/plugin/target/scala-2.13/plugin_2.13-0.1.0-SNAPSHOT.jar\"))\n",
    "\n",
    "interp.load.cp(os.Path(\"/home/bau050/fusemate/target/scala-2.13/fusemate-0.1.jar\"))"
   ]
  },
  {
   "cell_type": "code",
   "execution_count": null,
   "metadata": {
    "collapsed": false
   },
   "outputs": [],
   "source": []
  },
  {
   "cell_type": "markdown",
   "metadata": {
    "collapsed": false
   },
   "source": [
    "The previous commands are part of the Scala \"Ammonite\" read-eval-print loop. Should you need it, Ammonite documentation is [here](https://ammonite.io/#Ammonite-REPL)."
   ]
  },
  {
   "cell_type": "code",
   "execution_count": null,
   "metadata": {
    "collapsed": false
   },
   "outputs": [],
   "source": []
  },
  {
   "cell_type": "markdown",
   "metadata": {
    "collapsed": false
   },
   "source": [
    "The following import makes a predefined inference engine available. It uses `Int` as the type for \"time\"."
   ]
  },
  {
   "cell_type": "code",
   "execution_count": 2,
   "metadata": {
    "collapsed": false
   },
   "outputs": [
    {
     "name": "stderr",
     "output_type": "stream",
     "text": [
      "cmd2.sc:1: object TableauFramework is not a member of package fm6\n",
      "import fm6.TableauFramework._\n",
      "           ^"
     ]
    },
    {
     "name": "stderr",
     "output_type": "stream",
     "text": [
      "cmd2.sc:2: not found: value IntTimeTableauFramework\n",
      "import IntTimeTableauFramework._\n",
      "       ^"
     ]
    },
    {
     "name": "stderr",
     "output_type": "stream",
     "text": [
      "cmd2.sc:3: not found: value IntTimeTableauFramework\n",
      "import IntTimeTableauFramework.ruleFramework._\n",
      "       ^"
     ]
    },
    {
     "name": "stderr",
     "output_type": "stream",
     "text": [
      "cmd2.sc:4: not found: value IntTimeTableauFramework\n",
      "import IntTimeTableauFramework.ruleFramework.signature._\n",
      "       ^"
     ]
    },
    {
     "name": "stderr",
     "output_type": "stream",
     "text": [
      "Compilation Failed"
     ]
    },
    {
     "ename": "",
     "evalue": "",
     "output_type": "error",
     "traceback": [
      "Compilation Failed"
     ]
    }
   ],
   "source": [
    "import fm6.TableauFramework._\n",
    "import IntTimeTableauFramework._\n",
    "import IntTimeTableauFramework.ruleFramework._\n",
    "import IntTimeTableauFramework.ruleFramework.signature._"
   ]
  },
  {
   "cell_type": "code",
   "execution_count": null,
   "metadata": {
    "collapsed": false
   },
   "outputs": [],
   "source": []
  },
  {
   "cell_type": "code",
   "execution_count": null,
   "metadata": {
    "collapsed": false
   },
   "outputs": [],
   "source": []
  },
  {
   "cell_type": "code",
   "execution_count": null,
   "metadata": {
    "collapsed": false
   },
   "outputs": [],
   "source": []
  },
  {
   "cell_type": "code",
   "execution_count": null,
   "metadata": {
    "collapsed": false
   },
   "outputs": [],
   "source": []
  },
  {
   "cell_type": "code",
   "execution_count": null,
   "metadata": {
    "collapsed": false
   },
   "outputs": [],
   "source": []
  },
  {
   "cell_type": "code",
   "execution_count": null,
   "metadata": {
    "collapsed": false
   },
   "outputs": [],
   "source": [
    "scala.tools.nsc.settings.ScalaVersion.current\n"
   ]
  },
  {
   "cell_type": "code",
   "execution_count": null,
   "metadata": {
    "collapsed": false
   },
   "outputs": [],
   "source": []
  },
  {
   "cell_type": "code",
   "execution_count": 1,
   "metadata": {
    "collapsed": false
   },
   "outputs": [],
   "source": []
  },
  {
   "cell_type": "code",
   "execution_count": null,
   "metadata": {
    "collapsed": false
   },
   "outputs": [],
   "source": []
  },
  {
   "cell_type": "code",
   "execution_count": null,
   "metadata": {
    "collapsed": false
   },
   "outputs": [],
   "source": []
  },
  {
   "cell_type": "code",
   "execution_count": null,
   "metadata": {
    "collapsed": false
   },
   "outputs": [],
   "source": []
  },
  {
   "cell_type": "code",
   "execution_count": null,
   "metadata": {
    "collapsed": false
   },
   "outputs": [],
   "source": []
  },
  {
   "cell_type": "markdown",
   "metadata": {
    "collapsed": false
   },
   "source": [
    "Let us define the predicate signature in this example. "
   ]
  },
  {
   "cell_type": "code",
   "execution_count": null,
   "metadata": {
    "collapsed": false
   },
   "outputs": [],
   "source": [
    "case class World(time: Int) extends Atom\n",
    "case class Hello(time: Int) extends Atom\n"
   ]
  },
  {
   "cell_type": "markdown",
   "metadata": {
    "collapsed": false
   },
   "source": [
    "The rule base consists of a single rule."
   ]
  },
  {
   "cell_type": "code",
   "execution_count": null,
   "metadata": {
    "collapsed": false
   },
   "outputs": [],
   "source": [
    "@rules\n",
    "val rules = List(\n",
    "  World(time) :- Hello(time),\n",
    ")"
   ]
  },
  {
   "cell_type": "markdown",
   "metadata": {
    "collapsed": false
   },
   "source": [
    "Let us compute a model of the (singleton) set of facts `{ Hello(0) }` and the rule above.\n",
    "The `saturateFirst` operator returns the first such model, but there is only one model in this case anyway. "
   ]
  },
  {
   "cell_type": "code",
   "execution_count": null,
   "metadata": {
    "collapsed": false
   },
   "outputs": [],
   "source": [
    "val M = Set(Hello(0)) saturateFirst rules"
   ]
  },
  {
   "cell_type": "markdown",
   "metadata": {
    "collapsed": false
   },
   "source": [
    "The following prints a model \"nicely\"."
   ]
  },
  {
   "cell_type": "code",
   "execution_count": null,
   "metadata": {
    "collapsed": false
   },
   "outputs": [],
   "source": [
    "ppLits(M)"
   ]
  },
  {
   "cell_type": "code",
   "execution_count": null,
   "metadata": {
    "collapsed": false
   },
   "outputs": [],
   "source": []
  }
 ],
 "metadata": {
  "kernelspec": {
   "argv": [
    "java",
    "-jar",
    "/home/bau050/.local/share/jupyter/kernels/scala/launcher.jar",
    "--connection-file",
    "{connection_file}"
   ],
   "display_name": "Scala",
   "env": null,
   "interrupt_mode": "signal",
   "language": "scala",
   "metadata": null,
   "name": "scala"
  },
  "language_info": {
   "codemirror_mode": "text/x-scala",
   "file_extension": ".scala",
   "mimetype": "text/x-scala",
   "name": "scala",
   "nbconvert_exporter": "script",
   "version": "2.13.1"
  },
  "name": "hello-world.ipynb"
 },
 "nbformat": 4,
 "nbformat_minor": 4
}
